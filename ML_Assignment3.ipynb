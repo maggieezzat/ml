{
 "cells": [
  {
   "cell_type": "markdown",
   "metadata": {},
   "source": [
    "# Assignment 2 ML\n",
    "   ### Maggie Ezzat Gamil Gaid 37-575 T-1\n",
    "   ### Mariz Samir Mounir Awad 37-2632  T-7"
   ]
  },
  {
   "cell_type": "code",
   "execution_count": 1,
   "metadata": {},
   "outputs": [],
   "source": [
    "import numpy as np\n",
    "import matplotlib.pyplot as plt\n",
    "import random\n",
    "import math"
   ]
  },
  {
   "cell_type": "code",
   "execution_count": 2,
   "metadata": {},
   "outputs": [],
   "source": [
    "def binarize(arr):\n",
    "    for i in range(len(arr)):\n",
    "        if arr[i]>140:\n",
    "            arr[i]=1\n",
    "        else:\n",
    "            arr[i]=0\n",
    "    return arr"
   ]
  },
  {
   "cell_type": "markdown",
   "metadata": {},
   "source": [
    "**Reading data & binarizing images:**"
   ]
  },
  {
   "cell_type": "code",
   "execution_count": 3,
   "metadata": {},
   "outputs": [
    {
     "data": {
      "text/plain": [
       "(2400, 784)"
      ]
     },
     "execution_count": 3,
     "metadata": {},
     "output_type": "execute_result"
    }
   ],
   "source": [
    "train_dir = \"./Images/\"\n",
    "\n",
    "#train_data is X\n",
    "train_data = np.zeros(shape=(1,784)).astype(int)\n",
    "\n",
    "for i in range(1,2401):\n",
    "    file_name = train_dir+ str(i)+\".jpg\"\n",
    "    img = plt.imread(file_name)\n",
    "    img = img.flatten()\n",
    "    img = binarize(img)\n",
    "    train_data = np.vstack((train_data, img))\n",
    "    \n",
    "#remove the first zero row in the matrix initizalization        \n",
    "train_data = np.delete(train_data, (0), axis=0) \n",
    "\n",
    "train_data.shape"
   ]
  },
  {
   "cell_type": "markdown",
   "metadata": {},
   "source": [
    "**Centroids Initialization:**"
   ]
  },
  {
   "cell_type": "code",
   "execution_count": 4,
   "metadata": {},
   "outputs": [],
   "source": [
    "clusters_means = np.zeros(shape=(10,784))\n",
    "new_data = train_data\n",
    "\n",
    "r = random.randint(0,2400)\n",
    "clusters_means[0] = train_data[r]\n",
    "new_data = np.delete(new_data, r, 0)\n",
    "\n",
    "for mean_index in range(1,10):\n",
    "    prev_mean = clusters_means[mean_index-1]\n",
    "    min_dist = math.inf\n",
    "    for i in range(new_data.shape[0]):\n",
    "        dist = np.linalg.norm(prev_mean - new_data[i])\n",
    "        if dist<min_dist:\n",
    "            min_dist = dist\n",
    "            new_data = np.delete(new_data, i, 0)\n",
    "            clusters_means[mean_index] = new_data[i]\n",
    "            break\n",
    "    \n"
   ]
  },
  {
   "cell_type": "markdown",
   "metadata": {},
   "source": [
    "**K-NN algorithm:**"
   ]
  },
  {
   "cell_type": "code",
   "execution_count": 5,
   "metadata": {},
   "outputs": [],
   "source": [
    "def compute_memberships(data, means):\n",
    "    \n",
    "    membership_arr = np.zeros(shape=2400)\n",
    "    \n",
    "    for data_index in range(data.shape[0]):\n",
    "        min_dist = math.inf\n",
    "        selected_cluster = 0\n",
    "        for mean_index in range(means.shape[0]):\n",
    "            dist = np.linalg.norm(means[mean_index] - data[data_index])\n",
    "            if dist < min_dist:\n",
    "                min_dist = dist\n",
    "                selected_cluster = mean_index\n",
    "        #TODO: many clusters\n",
    "        membership_arr[data_index] = selected_cluster\n",
    "        \n",
    "    return membership_arr"
   ]
  },
  {
   "cell_type": "code",
   "execution_count": 6,
   "metadata": {},
   "outputs": [],
   "source": [
    "def update_means(data, membership, means):\n",
    "    \n",
    "    updated_means = np.zeros(shape=(10,784))\n",
    "    for k in range(0,10):\n",
    "        #get members of this cluster\n",
    "        members_indices = np.where(membership == k)\n",
    "        new_mean = np.mean(data[members_indices], axis=0)\n",
    "        updated_means[k] = new_mean\n",
    "        \n",
    "    return updated_means\n",
    "        "
   ]
  },
  {
   "cell_type": "code",
   "execution_count": 10,
   "metadata": {},
   "outputs": [],
   "source": [
    "updated_means = clusters_means\n",
    "while True :\n",
    "    \n",
    "    membership_arr = compute_memberships(train_data, updated_means)\n",
    "    prev_means = updated_means\n",
    "    updated_means = update_means(train_data, membership_arr, updated_means)\n",
    "    truth_val = np.equal(prev_means, updated_means)\n",
    "    if False in truth_val:\n",
    "        continue\n",
    "    else:\n",
    "        break"
   ]
  },
  {
   "cell_type": "code",
   "execution_count": 11,
   "metadata": {},
   "outputs": [
    {
     "data": {
      "text/plain": [
       "array([[0., 0., 0., ..., 0., 0., 0.],\n",
       "       [0., 0., 0., ..., 0., 0., 0.],\n",
       "       [0., 0., 0., ..., 0., 0., 0.],\n",
       "       ...,\n",
       "       [0., 0., 0., ..., 0., 0., 0.],\n",
       "       [0., 0., 0., ..., 0., 0., 0.],\n",
       "       [0., 0., 0., ..., 0., 0., 0.]])"
      ]
     },
     "execution_count": 11,
     "metadata": {},
     "output_type": "execute_result"
    }
   ],
   "source": [
    "updated_means"
   ]
  },
  {
   "cell_type": "code",
   "execution_count": 12,
   "metadata": {},
   "outputs": [],
   "source": [
    "membership_arr = compute_memberships(train_data, updated_means)\n"
   ]
  },
  {
   "cell_type": "code",
   "execution_count": 30,
   "metadata": {},
   "outputs": [],
   "source": [
    "#membership_arr[0:240]\n",
    "#membership_arr[240:480]\n",
    "#membership_arr[480:720]\n",
    "#membership_arr[720:960]\n",
    "#membership_arr[960:1200]\n",
    "#membership_arr[1200:1440]\n",
    "#membership_arr[1440:1680]\n",
    "#membership_arr[1680:1920]\n",
    "#membership_arr[1920:2160]\n",
    "#membership_arr[2160:]"
   ]
  },
  {
   "cell_type": "code",
   "execution_count": null,
   "metadata": {},
   "outputs": [],
   "source": []
  }
 ],
 "metadata": {
  "kernelspec": {
   "display_name": "Python 3",
   "language": "python",
   "name": "python3"
  },
  "language_info": {
   "codemirror_mode": {
    "name": "ipython",
    "version": 3
   },
   "file_extension": ".py",
   "mimetype": "text/x-python",
   "name": "python",
   "nbconvert_exporter": "python",
   "pygments_lexer": "ipython3",
   "version": "3.7.1"
  }
 },
 "nbformat": 4,
 "nbformat_minor": 2
}
