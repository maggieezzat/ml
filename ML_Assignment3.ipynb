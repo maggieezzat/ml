{
 "cells": [
  {
   "cell_type": "markdown",
   "metadata": {},
   "source": [
    "# Assignment 2 ML\n",
    "   ### Maggie Ezzat Gamil Gaid 37-575 T-1\n",
    "   ### Mariz Samir Mounir Awad 37-2632  T-7"
   ]
  },
  {
   "cell_type": "code",
   "execution_count": 34,
   "metadata": {},
   "outputs": [],
   "source": [
    "import numpy as np\n",
    "import matplotlib.pyplot as plt\n",
    "import random\n",
    "import math"
   ]
  },
  {
   "cell_type": "markdown",
   "metadata": {},
   "source": [
    "**Given an array convert it to binary**"
   ]
  },
  {
   "cell_type": "code",
   "execution_count": 35,
   "metadata": {},
   "outputs": [],
   "source": [
    "def binarize(arr):\n",
    "    for i in range(len(arr)):\n",
    "        if arr[i]>140:\n",
    "            arr[i]=1\n",
    "        else:\n",
    "            arr[i]=0\n",
    "    return arr"
   ]
  },
  {
   "cell_type": "markdown",
   "metadata": {},
   "source": [
    "**Reading data & binarizing images:**"
   ]
  },
  {
   "cell_type": "code",
   "execution_count": 36,
   "metadata": {},
   "outputs": [
    {
     "data": {
      "text/plain": [
       "(2400, 784)"
      ]
     },
     "execution_count": 36,
     "metadata": {},
     "output_type": "execute_result"
    }
   ],
   "source": [
    "train_dir = \"./Images/\"\n",
    "\n",
    "#train_data is X\n",
    "train_data = np.zeros(shape=(1,784)).astype(int)\n",
    "\n",
    "for i in range(1,2401):\n",
    "    file_name = train_dir+ str(i)+\".jpg\"\n",
    "    img = plt.imread(file_name)\n",
    "    img = img.flatten()\n",
    "    img = binarize(img)\n",
    "    train_data = np.vstack((train_data, img))\n",
    "    \n",
    "#remove the first zero row in the matrix initizalization        \n",
    "train_data = np.delete(train_data, (0), axis=0) \n",
    "\n",
    "train_data.shape"
   ]
  },
  {
   "cell_type": "markdown",
   "metadata": {},
   "source": [
    "**Centroids Initialization:**"
   ]
  },
  {
   "cell_type": "code",
   "execution_count": 37,
   "metadata": {},
   "outputs": [],
   "source": [
    "def initialize(train_data):\n",
    "    clusters_means = np.zeros(shape=(10,784))\n",
    "    new_data = train_data\n",
    "\n",
    "    r = random.randint(0,2400)\n",
    "    clusters_means[0] = train_data[r]\n",
    "    new_data = np.delete(new_data, r, 0)\n",
    "\n",
    "    for mean_index in range(1,10):\n",
    "        prev_mean = clusters_means[mean_index-1]\n",
    "        min_dist = math.inf\n",
    "        for i in range(new_data.shape[0]):\n",
    "            dist = np.linalg.norm(prev_mean - new_data[i])\n",
    "            if dist<min_dist:\n",
    "                min_dist = dist\n",
    "                new_data = np.delete(new_data, i, 0)\n",
    "                clusters_means[mean_index] = new_data[i]\n",
    "                break\n",
    "    \n",
    "    return clusters_means\n",
    "    "
   ]
  },
  {
   "cell_type": "markdown",
   "metadata": {},
   "source": [
    "**Given the dataset and the means, computes the membership:**"
   ]
  },
  {
   "cell_type": "code",
   "execution_count": 38,
   "metadata": {},
   "outputs": [],
   "source": [
    "def compute_memberships(data, means):\n",
    "    \n",
    "    membership_arr = np.zeros(shape=2400)\n",
    "    \n",
    "    for data_index in range(data.shape[0]):\n",
    "        min_dist = math.inf\n",
    "        selected_cluster = 0\n",
    "        for mean_index in range(means.shape[0]):\n",
    "            dist = np.linalg.norm(means[mean_index] - data[data_index])\n",
    "            if dist < min_dist:\n",
    "                min_dist = dist\n",
    "                selected_cluster = mean_index\n",
    "        \n",
    "        membership_arr[data_index] = selected_cluster\n",
    "        \n",
    "    return membership_arr"
   ]
  },
  {
   "cell_type": "markdown",
   "metadata": {},
   "source": [
    "**Given the membership, update the means:**"
   ]
  },
  {
   "cell_type": "code",
   "execution_count": 39,
   "metadata": {},
   "outputs": [],
   "source": [
    "def update_means(data, membership, means):\n",
    "    \n",
    "    updated_means = np.zeros(shape=(10,784))\n",
    "    for k in range(0,10):\n",
    "        #get members of this cluster\n",
    "        members_indices = np.where(membership == k)\n",
    "        new_mean = np.mean(data[members_indices], axis=0)\n",
    "        updated_means[k] = new_mean\n",
    "        \n",
    "    return updated_means\n",
    "        "
   ]
  },
  {
   "cell_type": "code",
   "execution_count": 40,
   "metadata": {},
   "outputs": [],
   "source": [
    "def compare_arr(arr1, arr2):\n",
    "    if len(arr1) != len(arr2):\n",
    "        return False\n",
    "    for i in range(len(arr1)):\n",
    "        if arr1[i] != arr2[i]:\n",
    "            return False\n",
    "    return True"
   ]
  },
  {
   "cell_type": "code",
   "execution_count": 90,
   "metadata": {},
   "outputs": [],
   "source": [
    "def calc_within_cluster_dist(mem_arr, train_data, means):\n",
    "    \n",
    "    _sum = 0\n",
    "    \n",
    "    for c_ID in range(0,10):\n",
    "        for i in range(len(mem_arr)):\n",
    "            if mem_arr[i] == c_ID:\n",
    "                data = train_data[i]\n",
    "                dist = np.linalg.norm(means[c_ID] - data)\n",
    "                _sum+=dist\n",
    "    return _sum\n",
    "    "
   ]
  },
  {
   "cell_type": "code",
   "execution_count": 91,
   "metadata": {},
   "outputs": [],
   "source": [
    "mem_results = np.zeros(shape=(30,2400))\n",
    "means_results = np.zeros(shape=(30,10,784))\n",
    "\n",
    "min_within_cluster_dist = math.inf\n",
    "best_initialization_index = 0\n",
    "\n",
    "for i in range(0,30):\n",
    "    updated_means = initialize(train_data)\n",
    "    membership_arr = compute_memberships(train_data, updated_means)\n",
    "\n",
    "    while True :\n",
    "        prev_membership = membership_arr\n",
    "        updated_means = update_means(train_data, membership_arr, updated_means)\n",
    "        membership_arr = compute_memberships(train_data, updated_means)\n",
    "        if compare_arr(prev_membership, membership_arr):\n",
    "            break\n",
    "        dist = calc_within_cluster_dist(membership_arr, train_data, updated_means)\n",
    "        if dist < min_within_cluster_dist:\n",
    "            min_within_cluster_dist = dist\n",
    "            best_initialization_index = i\n",
    "    mem_results[i] = membership_arr\n",
    "    means_results[i] = updated_means"
   ]
  },
  {
   "cell_type": "code",
   "execution_count": null,
   "metadata": {},
   "outputs": [],
   "source": []
  },
  {
   "cell_type": "code",
   "execution_count": null,
   "metadata": {},
   "outputs": [],
   "source": []
  },
  {
   "cell_type": "code",
   "execution_count": null,
   "metadata": {},
   "outputs": [],
   "source": []
  },
  {
   "cell_type": "code",
   "execution_count": null,
   "metadata": {},
   "outputs": [],
   "source": []
  },
  {
   "cell_type": "code",
   "execution_count": null,
   "metadata": {},
   "outputs": [],
   "source": []
  },
  {
   "cell_type": "code",
   "execution_count": null,
   "metadata": {},
   "outputs": [],
   "source": []
  },
  {
   "cell_type": "code",
   "execution_count": null,
   "metadata": {},
   "outputs": [],
   "source": []
  },
  {
   "cell_type": "code",
   "execution_count": null,
   "metadata": {},
   "outputs": [],
   "source": []
  },
  {
   "cell_type": "code",
   "execution_count": null,
   "metadata": {},
   "outputs": [],
   "source": []
  },
  {
   "cell_type": "code",
   "execution_count": null,
   "metadata": {},
   "outputs": [],
   "source": []
  },
  {
   "cell_type": "code",
   "execution_count": null,
   "metadata": {},
   "outputs": [],
   "source": []
  },
  {
   "cell_type": "code",
   "execution_count": null,
   "metadata": {},
   "outputs": [],
   "source": []
  },
  {
   "cell_type": "code",
   "execution_count": 80,
   "metadata": {},
   "outputs": [],
   "source": [
    "def get_clusters_digits(mem_arr):\n",
    "    \n",
    "    clusters = [[],[],[],[],[],[],[],[],[],[]]\n",
    "    \n",
    "    for i in range(len(mem_arr)):\n",
    "        cluster_ID = mem_arr[i].astype(int)\n",
    "        if 0<=i<240:\n",
    "            digit = 0\n",
    "        elif 240<=i<480:\n",
    "            digit = 1\n",
    "        elif 480<=i<720:\n",
    "            digit = 2\n",
    "        elif 720<=i<960:\n",
    "            digit = 3\n",
    "        elif 960<=i<1200:\n",
    "            digit = 4\n",
    "        elif 1200<=i<1440:\n",
    "            digit = 5\n",
    "        elif 1440<=i<1680:\n",
    "            digit = 6\n",
    "        elif 1680<=i<1920:\n",
    "            digit = 7\n",
    "        elif 1920<=i<2160:\n",
    "            digit = 8\n",
    "        elif 2160<=i<2400:\n",
    "            digit = 9\n",
    "                 \n",
    "        clusters[cluster_ID].append(digit)\n",
    "    \n",
    "    return clusters\n",
    "    "
   ]
  },
  {
   "cell_type": "code",
   "execution_count": 81,
   "metadata": {},
   "outputs": [],
   "source": [
    "clusters = get_clusters(membership_arr)"
   ]
  },
  {
   "cell_type": "code",
   "execution_count": 83,
   "metadata": {},
   "outputs": [
    {
     "data": {
      "text/plain": [
       "67"
      ]
     },
     "execution_count": 83,
     "metadata": {},
     "output_type": "execute_result"
    }
   ],
   "source": [
    "len(clusters[5])\n",
    "#clusters[5]"
   ]
  },
  {
   "cell_type": "code",
   "execution_count": 84,
   "metadata": {},
   "outputs": [],
   "source": [
    "def get_counts(val, arr):\n",
    "    count=0\n",
    "    for i in range(len(arr)):\n",
    "        if arr[i] == val:\n",
    "            count+=1\n",
    "    return count"
   ]
  },
  {
   "cell_type": "code",
   "execution_count": 85,
   "metadata": {},
   "outputs": [],
   "source": [
    "digits_counts = [0]*10\n",
    "\n",
    "for i in range(0,10):\n",
    "    c = [0]*10\n",
    "    for j in range(0,10):\n",
    "        c[j] = get_counts(i, clusters[j]) \n",
    "    count = max(c)\n",
    "    digits_counts[i] = count\n",
    "    "
   ]
  },
  {
   "cell_type": "code",
   "execution_count": 86,
   "metadata": {},
   "outputs": [
    {
     "data": {
      "text/plain": [
       "[75, 237, 148, 121, 187, 70, 194, 195, 129, 188]"
      ]
     },
     "execution_count": 86,
     "metadata": {},
     "output_type": "execute_result"
    }
   ],
   "source": [
    "digits_counts"
   ]
  },
  {
   "cell_type": "code",
   "execution_count": 10,
   "metadata": {},
   "outputs": [],
   "source": [
    "def calc_mode(arr):\n",
    "    arr = arr.astype(int)\n",
    "    counts = [0]*10\n",
    "    \n",
    "    for i in range(len(arr)):\n",
    "        index = arr[i]\n",
    "        counts[index] = counts[index] + 1\n",
    "    \n",
    "    mode = counts.index(max(counts))\n",
    "    mode_counts = max(counts)\n",
    "    \n",
    "    return (mode, mode_counts)"
   ]
  },
  {
   "cell_type": "code",
   "execution_count": null,
   "metadata": {},
   "outputs": [],
   "source": [
    "\n",
    "    "
   ]
  },
  {
   "cell_type": "code",
   "execution_count": 87,
   "metadata": {},
   "outputs": [
    {
     "data": {
      "image/png": "[encoded data removed]",
      "text/plain": [
       "<Figure size 432x288 with 1 Axes>"
      ]
     },
     "metadata": {
      "needs_background": "light"
     },
     "output_type": "display_data"
    }
   ],
   "source": [
    "#modes = []\n",
    "#modes_counts = []\n",
    "digits = [0,1,2,3,4,5,6,7,8,9]\n",
    "#mem = mem_results[0][0:240]\n",
    "#means = means_results[0]\n",
    "#mem = mem_results[0]\n",
    "#i=0\n",
    "#while i<2400:\n",
    "#    cluster = mem_results[5][i:i+240]\n",
    "#    (mode, mode_counts) = calc_mode(cluster)\n",
    "#    print(mode, mode_counts)\n",
    "#    modes.append(mode)\n",
    "#    modes_counts.append(mode_counts)\n",
    "#    i+=240\n",
    "\n",
    "plt.bar(digits,digits_counts) # A bar chart\n",
    "plt.xlabel('Digit Number')\n",
    "plt.ylabel('Count in cluster')\n",
    "plt.show()"
   ]
  },
  {
   "cell_type": "code",
   "execution_count": null,
   "metadata": {},
   "outputs": [],
   "source": []
  },
  {
   "cell_type": "code",
   "execution_count": 15,
   "metadata": {},
   "outputs": [],
   "source": [
    "def calc_min_dist(c1, c2):\n",
    "    \n",
    "    distances = np.ones(shape=(len(c1), len(c2)))*10000\n",
    "    \n",
    "    for i in range(0, len(c1)):\n",
    "        for j in range(0, len(c2)):\n",
    "            distances[i][j] = np.linalg.norm(c1[i]-c2[j])\n",
    "            \n",
    "    return np.min(distances)"
   ]
  },
  {
   "cell_type": "code",
   "execution_count": 16,
   "metadata": {},
   "outputs": [],
   "source": [
    "def calc_diameter(c):\n",
    "    \n",
    "    diameters = np.zeros(shape=(len(c),len(c)))\n",
    "    \n",
    "    for i in range(0, len(c)):\n",
    "        for j in range(0, len(c)):\n",
    "            diameters[i][j] = np.linalg.norm(c[i]-c[j])\n",
    "            \n",
    "    return np.max(diameters)"
   ]
  },
  {
   "cell_type": "code",
   "execution_count": 17,
   "metadata": {},
   "outputs": [],
   "source": [
    "def dunn_index(clusters):\n",
    "\n",
    "    distances = np.ones(shape=(len(clusters), len(clusters)))*1000000\n",
    "    diameters = np.zeros(shape=(len(clusters)))\n",
    "    \n",
    "    for i in range(0, len(clusters)):\n",
    "        for j in range(0, len(clusters)):\n",
    "            if i!=j:\n",
    "                distances[i][j] = calc_min_dist(clusters[i], clusters[j])\n",
    "        \n",
    "        for l in (l_range[0:k]+l_range[k+1:]):\n",
    "            deltas[k, l] = delta(clusters[k], clusters[l])\n",
    "        \n",
    "        diameters = calc_diameter(clusters[k])\n",
    "\n",
    "    di = np.min(distances)/np.max(diameters)\n",
    "    return di"
   ]
  },
  {
   "cell_type": "code",
   "execution_count": null,
   "metadata": {},
   "outputs": [],
   "source": []
  },
  {
   "cell_type": "code",
   "execution_count": 32,
   "metadata": {},
   "outputs": [],
   "source": []
  },
  {
   "cell_type": "code",
   "execution_count": null,
   "metadata": {},
   "outputs": [],
   "source": []
  },
  {
   "cell_type": "code",
   "execution_count": null,
   "metadata": {},
   "outputs": [],
   "source": []
  },
  {
   "cell_type": "code",
   "execution_count": null,
   "metadata": {},
   "outputs": [],
   "source": []
  }
 ],
 "metadata": {
  "kernelspec": {
   "display_name": "Python 3",
   "language": "python",
   "name": "python3"
  },
  "language_info": {
   "codemirror_mode": {
    "name": "ipython",
    "version": 3
   },
   "file_extension": ".py",
   "mimetype": "text/x-python",
   "name": "python",
   "nbconvert_exporter": "python",
   "pygments_lexer": "ipython3",
   "version": "3.7.1"
  }
 },
 "nbformat": 4,
 "nbformat_minor": 2
}
