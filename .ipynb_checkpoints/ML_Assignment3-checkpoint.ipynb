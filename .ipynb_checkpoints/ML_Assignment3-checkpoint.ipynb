{
 "cells": [
  {
   "cell_type": "markdown",
   "metadata": {},
   "source": [
    "# Assignment 2 ML\n",
    "   ### Maggie Ezzat Gamil Gaid 37-575 T-1\n",
    "   ### Mariz Samir Mounir Awad 37-2632  T-7"
   ]
  },
  {
   "cell_type": "code",
   "execution_count": 1,
   "metadata": {},
   "outputs": [],
   "source": [
    "import numpy as np\n",
    "import matplotlib.pyplot as plt\n",
    "import random\n",
    "import math"
   ]
  },
  {
   "cell_type": "markdown",
   "metadata": {},
   "source": [
    "**Given an array convert it to binary**"
   ]
  },
  {
   "cell_type": "code",
   "execution_count": 2,
   "metadata": {},
   "outputs": [],
   "source": [
    "def binarize(arr):\n",
    "    for i in range(len(arr)):\n",
    "        if arr[i]>140:\n",
    "            arr[i]=1\n",
    "        else:\n",
    "            arr[i]=0\n",
    "    return arr"
   ]
  },
  {
   "cell_type": "markdown",
   "metadata": {},
   "source": [
    "**Reading data & binarizing images:**"
   ]
  },
  {
   "cell_type": "code",
   "execution_count": 3,
   "metadata": {},
   "outputs": [
    {
     "data": {
      "text/plain": [
       "(2400, 784)"
      ]
     },
     "execution_count": 3,
     "metadata": {},
     "output_type": "execute_result"
    }
   ],
   "source": [
    "train_dir = \"./Images/\"\n",
    "\n",
    "#train_data is X\n",
    "train_data = np.zeros(shape=(1,784)).astype(int)\n",
    "\n",
    "for i in range(1,2401):\n",
    "    file_name = train_dir+ str(i)+\".jpg\"\n",
    "    img = plt.imread(file_name)\n",
    "    img = img.flatten()\n",
    "    img = binarize(img)\n",
    "    train_data = np.vstack((train_data, img))\n",
    "    \n",
    "#remove the first zero row in the matrix initizalization        \n",
    "train_data = np.delete(train_data, (0), axis=0) \n",
    "\n",
    "train_data.shape"
   ]
  },
  {
   "cell_type": "markdown",
   "metadata": {},
   "source": [
    "**Centroids Initialization:**"
   ]
  },
  {
   "cell_type": "code",
   "execution_count": 4,
   "metadata": {},
   "outputs": [],
   "source": [
    "def initialize(train_data):\n",
    "    clusters_means = np.zeros(shape=(10,784))\n",
    "    new_data = train_data\n",
    "\n",
    "    r = random.randint(0,2400)\n",
    "    clusters_means[0] = train_data[r]\n",
    "    new_data = np.delete(new_data, r, 0)\n",
    "\n",
    "    for mean_index in range(1,10):\n",
    "        prev_mean = clusters_means[mean_index-1]\n",
    "        min_dist = math.inf\n",
    "        for i in range(new_data.shape[0]):\n",
    "            dist = np.linalg.norm(prev_mean - new_data[i])\n",
    "            if dist<min_dist:\n",
    "                min_dist = dist\n",
    "                new_data = np.delete(new_data, i, 0)\n",
    "                clusters_means[mean_index] = new_data[i]\n",
    "                break\n",
    "    \n",
    "    return clusters_means\n",
    "    "
   ]
  },
  {
   "cell_type": "markdown",
   "metadata": {},
   "source": [
    "**Given the dataset and the means, computes the membership:**"
   ]
  },
  {
   "cell_type": "code",
   "execution_count": 5,
   "metadata": {},
   "outputs": [],
   "source": [
    "def compute_memberships(data, means):\n",
    "    \n",
    "    membership_arr = np.zeros(shape=2400)\n",
    "    \n",
    "    for data_index in range(data.shape[0]):\n",
    "        min_dist = math.inf\n",
    "        selected_cluster = 0\n",
    "        for mean_index in range(means.shape[0]):\n",
    "            dist = np.linalg.norm(means[mean_index] - data[data_index])\n",
    "            if dist < min_dist:\n",
    "                min_dist = dist\n",
    "                selected_cluster = mean_index\n",
    "        \n",
    "        membership_arr[data_index] = selected_cluster\n",
    "        \n",
    "    return membership_arr"
   ]
  },
  {
   "cell_type": "markdown",
   "metadata": {},
   "source": [
    "**Given the membership, update the means:**"
   ]
  },
  {
   "cell_type": "code",
   "execution_count": 6,
   "metadata": {},
   "outputs": [],
   "source": [
    "def update_means(data, membership, means):\n",
    "    \n",
    "    updated_means = np.zeros(shape=(10,784))\n",
    "    for k in range(0,10):\n",
    "        #get members of this cluster\n",
    "        members_indices = np.where(membership == k)\n",
    "        new_mean = np.mean(data[members_indices], axis=0)\n",
    "        updated_means[k] = new_mean\n",
    "        \n",
    "    return updated_means\n",
    "        "
   ]
  },
  {
   "cell_type": "code",
   "execution_count": 7,
   "metadata": {},
   "outputs": [],
   "source": [
    "def compare_arr(arr1, arr2):\n",
    "    if len(arr1) != len(arr2):\n",
    "        return False\n",
    "    for i in range(len(arr1)):\n",
    "        if arr1[i] != arr2[i]:\n",
    "            return False\n",
    "    return True"
   ]
  },
  {
   "cell_type": "markdown",
   "metadata": {},
   "source": [
    "**Given the membership array, the means, and the data, calculate the sum of within cluster distances:**"
   ]
  },
  {
   "cell_type": "code",
   "execution_count": 8,
   "metadata": {},
   "outputs": [],
   "source": [
    "def calc_within_cluster_dist(mem_arr, train_data, means):\n",
    "    \n",
    "    _sum = 0\n",
    "    \n",
    "    for c_ID in range(0,10):\n",
    "        for i in range(len(mem_arr)):\n",
    "            if mem_arr[i] == c_ID:\n",
    "                data = train_data[i]\n",
    "                dist = np.linalg.norm(means[c_ID] - data)\n",
    "                _sum+=dist\n",
    "    return _sum\n",
    "    "
   ]
  },
  {
   "cell_type": "markdown",
   "metadata": {},
   "source": [
    "**Run the K-NN algorithm 30 times, and store the index of the best initialization:**     \n",
    "One that produces the least within cluster distances"
   ]
  },
  {
   "cell_type": "code",
   "execution_count": 9,
   "metadata": {},
   "outputs": [],
   "source": [
    "mem_results = np.zeros(shape=(30,2400))\n",
    "means_results = np.zeros(shape=(30,10,784))\n",
    "\n",
    "min_within_cluster_dist = math.inf\n",
    "best_initialization_index = 0\n",
    "\n",
    "for i in range(0,30):\n",
    "    updated_means = initialize(train_data)\n",
    "    membership_arr = compute_memberships(train_data, updated_means)\n",
    "\n",
    "    while True :\n",
    "        prev_membership = membership_arr\n",
    "        updated_means = update_means(train_data, membership_arr, updated_means)\n",
    "        membership_arr = compute_memberships(train_data, updated_means)\n",
    "        if compare_arr(prev_membership, membership_arr):\n",
    "            break\n",
    "        dist = calc_within_cluster_dist(membership_arr, train_data, updated_means)\n",
    "        if dist < min_within_cluster_dist:\n",
    "            min_within_cluster_dist = dist\n",
    "            best_initialization_index = i\n",
    "    mem_results[i] = membership_arr\n",
    "    means_results[i] = updated_means"
   ]
  },
  {
   "cell_type": "markdown",
   "metadata": {},
   "source": [
    "**Identify the cluster of th digit, and get the number of instances clustered in this cluster:**"
   ]
  },
  {
   "cell_type": "code",
   "execution_count": 10,
   "metadata": {},
   "outputs": [],
   "source": [
    "def get_cluster_counts(arr):\n",
    "    \n",
    "    counts = [0]*10\n",
    "    \n",
    "    for i in range(len(arr)):\n",
    "        cluster = int(arr[i])\n",
    "        counts[cluster] = counts[cluster] + 1\n",
    "    \n",
    "    cluster = counts.index(max(counts))\n",
    "    in_cluster_counts = max(counts)\n",
    "    \n",
    "    return (cluster, in_cluster_counts)"
   ]
  },
  {
   "cell_type": "code",
   "execution_count": 17,
   "metadata": {},
   "outputs": [
    {
     "data": {
      "image/png": "[encoded data removed]",
      "text/plain": [
       "<Figure size 432x288 with 1 Axes>"
      ]
     },
     "metadata": {
      "needs_background": "light"
     },
     "output_type": "display_data"
    }
   ],
   "source": [
    "digits_mem = np.array_split(mem_results[best_initialization_index], 10)\n",
    "\n",
    "digits_counts_in_cluster = []\n",
    "\n",
    "for i in range(len(digits_mem)):\n",
    "    arr = digits_mem[i]\n",
    "    (cluster, in_cluster_counts) = get_cluster_counts(arr)\n",
    "    digits_counts_in_cluster.append(in_cluster_counts)\n",
    "\n",
    "digits = [0,1,2,3,4,5,6,7,8,9]\n",
    "\n",
    "\n",
    "plt.bar(digits,digits_counts_in_cluster)\n",
    "plt.xlabel('Digits')\n",
    "plt.ylabel('Digits Count in their cluster')\n",
    "plt.savefig('Counts.jpg')\n",
    "plt.show()\n",
    "    "
   ]
  },
  {
   "cell_type": "code",
   "execution_count": 12,
   "metadata": {},
   "outputs": [
    {
     "data": {
      "text/plain": [
       "[108, 237, 144, 167, 101, 95, 186, 144, 137, 124]"
      ]
     },
     "execution_count": 12,
     "metadata": {},
     "output_type": "execute_result"
    }
   ],
   "source": [
    "digits_counts_in_cluster"
   ]
  },
  {
   "cell_type": "code",
   "execution_count": null,
   "metadata": {},
   "outputs": [],
   "source": []
  },
  {
   "cell_type": "code",
   "execution_count": null,
   "metadata": {},
   "outputs": [],
   "source": []
  }
 ],
 "metadata": {
  "kernelspec": {
   "display_name": "Python 3",
   "language": "python",
   "name": "python3"
  },
  "language_info": {
   "codemirror_mode": {
    "name": "ipython",
    "version": 3
   },
   "file_extension": ".py",
   "mimetype": "text/x-python",
   "name": "python",
   "nbconvert_exporter": "python",
   "pygments_lexer": "ipython3",
   "version": "3.7.1"
  }
 },
 "nbformat": 4,
 "nbformat_minor": 2
}
