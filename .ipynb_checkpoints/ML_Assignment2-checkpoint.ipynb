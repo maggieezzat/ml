{
 "cells": [
  {
   "cell_type": "markdown",
   "metadata": {},
   "source": [
    "# Assignment 1 ML\n",
    "   ### Maggie Ezzat Gamil Gaid 37-575 T-1\n",
    "   ### Mariz Samir Mounir Awad 37-2632  T-2"
   ]
  },
  {
   "cell_type": "markdown",
   "metadata": {},
   "source": [
    "**Imports Used**"
   ]
  },
  {
   "cell_type": "code",
   "execution_count": 1,
   "metadata": {
    "scrolled": true
   },
   "outputs": [],
   "source": [
    "import numpy as np\n",
    "import matplotlib.pyplot as plt"
   ]
  },
  {
   "cell_type": "code",
   "execution_count": 2,
   "metadata": {},
   "outputs": [
    {
     "data": {
      "text/plain": [
       "(2400, 784)"
      ]
     },
     "execution_count": 2,
     "metadata": {},
     "output_type": "execute_result"
    }
   ],
   "source": [
    "train_dir = \"./Train/\"\n",
    "\n",
    "#train_data is X\n",
    "train_data = np.zeros(shape=(1,784)).astype(int)\n",
    "\n",
    "for i in range(1,2401):\n",
    "    file_name = train_dir+ str(i)+\".jpg\"\n",
    "    img = plt.imread(file_name)\n",
    "    img = img.flatten()\n",
    "    train_data = np.vstack((train_data, img))\n",
    "    \n",
    "#remove the first zero row in the matrix initizalization        \n",
    "train_data = np.delete(train_data, (0), axis=0) \n",
    "\n",
    "train_data.shape\n"
   ]
  },
  {
   "cell_type": "markdown",
   "metadata": {},
   "source": [
    "**Calculate the mean and variance for each pixel in eachclass:**"
   ]
  },
  {
   "cell_type": "code",
   "execution_count": null,
   "metadata": {},
   "outputs": [],
   "source": []
  },
  {
   "cell_type": "code",
   "execution_count": 17,
   "metadata": {},
   "outputs": [],
   "source": [
    "mean = np.zeros(shape=(10,784))\n",
    "var = np.zeros(shape=(10,784))\n",
    "\n",
    "for i in range(0,784):\n",
    "    _ithpixel_2400image = train_data[...,i].ravel()\n",
    "    #train_data[:,i]\n",
    "    x = np.array_split(_ithpixel_2400image, 10)\n",
    "    \n",
    "    for j in range(0,10):\n",
    "        jth_class = np.array(x[j])\n",
    "        \n",
    "        avg_ith_pixel_jth_class = np.mean(jth_class, axis=0)\n",
    "        mean[j][i] = avg_ith_pixel_jth_class\n",
    "        \n",
    "        var_ith_pixel_jth_class = np.var(jth_class, axis=0)\n",
    "        var[j][i] = var_ith_pixel_jth_class\n",
    "\n",
    "p_ck = 240/2400"
   ]
  },
  {
   "cell_type": "markdown",
   "metadata": {},
   "source": [
    "**Calculating P(x|Ck) as P(x1|ck)xP(x2|ck)x....xP(x784|ck)**"
   ]
  },
  {
   "cell_type": "code",
   "execution_count": 18,
   "metadata": {},
   "outputs": [
    {
     "data": {
      "text/plain": [
       "(200, 784)"
      ]
     },
     "execution_count": 18,
     "metadata": {},
     "output_type": "execute_result"
    }
   ],
   "source": [
    "test_dir = \"./Test/\"\n",
    "\n",
    "#train_data is X\n",
    "test_data = np.zeros(shape=(1,784)).astype(int)\n",
    "\n",
    "for i in range(1,201):\n",
    "    file_name = test_dir+ str(i)+\".jpg\"\n",
    "    img = plt.imread(file_name)\n",
    "    img = img.flatten()\n",
    "    test_data = np.vstack((test_data, img))\n",
    "    \n",
    "test_data = np.delete(test_data, (0), axis=0) \n",
    "test_data.shape"
   ]
  },
  {
   "cell_type": "code",
   "execution_count": 35,
   "metadata": {},
   "outputs": [],
   "source": [
    "def gaussian(x,mean,var):\n",
    "    if (var == 0.0):\n",
    "        var = 1.0\n",
    "        #if (x == mean):\n",
    "        #    return 1.0\n",
    "        #else:\n",
    "        #    return 0.0\n",
    "        \n",
    "    return (1/(2 * np.pi * var)) * np.exp((-(x-mean)**2)/(2 * var))"
   ]
  },
  {
   "cell_type": "code",
   "execution_count": 36,
   "metadata": {},
   "outputs": [
    {
     "data": {
      "text/plain": [
       "array([0, 0, 0, 6, 0, 0, 0, 0, 0, 0, 0, 0, 0, 9, 0, 0, 0, 0, 6, 0, 1, 1,\n",
       "       1, 1, 1, 1, 1, 1, 1, 1, 1, 1, 1, 1, 1, 1, 1, 1, 1, 1, 6, 1, 2, 1,\n",
       "       6, 2, 6, 2, 0, 2, 2, 2, 9, 8, 2, 6, 2, 2, 2, 6, 8, 3, 8, 3, 1, 8,\n",
       "       8, 3, 3, 1, 3, 3, 4, 3, 3, 3, 3, 9, 3, 3, 4, 9, 9, 4, 6, 4, 6, 6,\n",
       "       6, 8, 6, 6, 9, 9, 6, 6, 6, 1, 6, 9, 9, 8, 1, 9, 8, 8, 9, 5, 5, 9,\n",
       "       4, 8, 6, 2, 8, 3, 5, 5, 8, 0, 1, 6, 2, 6, 6, 6, 6, 6, 6, 6, 6, 6,\n",
       "       6, 6, 6, 6, 6, 2, 6, 6, 9, 9, 9, 9, 7, 9, 9, 7, 7, 9, 7, 9, 9, 9,\n",
       "       9, 9, 9, 7, 9, 9, 8, 1, 8, 9, 8, 8, 8, 8, 1, 8, 8, 9, 8, 2, 1, 8,\n",
       "       1, 3, 8, 1, 9, 9, 9, 4, 9, 9, 3, 9, 9, 9, 9, 9, 9, 9, 9, 9, 4, 4,\n",
       "       9, 9])"
      ]
     },
     "execution_count": 36,
     "metadata": {},
     "output_type": "execute_result"
    }
   ],
   "source": [
    "probs = np.ones(10)*p_ck\n",
    "predicted_classes = np.zeros(200).astype(int)\n",
    "\n",
    "\n",
    "for i in range(0,200):\n",
    "    img = test_data[i]\n",
    "    probs = np.ones(10)*p_ck\n",
    "    \n",
    "    for j  in range(0,10):\n",
    "        prod = 1\n",
    "        _sum = 0\n",
    "        for k in range(0,784):\n",
    "            #prod = prod* gaussian(img[k], mean[j][k], var[j][k])\n",
    "            value = gaussian(img[k], mean[j][k], var[j][k])\n",
    "            if value != 0:\n",
    "                _sum = _sum + np.log(value)\n",
    "            \n",
    "            #print(prod)\n",
    "            #probs[j] = probs[j]* gaussian(img[k], mean[j][k], var[j][k])\n",
    "            #print(gaussian(img[k], mean[j][k], var[j][k]))\n",
    "        probs[j] = _sum\n",
    "    #print(probs)\n",
    "    #break\n",
    "        #print(probs[j])\n",
    "            #break\n",
    "        #print(\"***************\")\n",
    "    img_class = np.argmax(probs)\n",
    "    #print(img_class)\n",
    "    predicted_classes[i] = img_class\n",
    "\n",
    "    \n",
    "predicted_classes  "
   ]
  },
  {
   "cell_type": "code",
   "execution_count": 37,
   "metadata": {},
   "outputs": [],
   "source": [
    "test_dir = \"./Test/\"\n",
    "\n",
    "file_name = test_dir + \"Test Labels.txt\"      \n",
    "with open(file_name, 'r') as f:\n",
    "    actual_classes = f.readlines()\n",
    "    for i in range(0, len(actual_classes)):\n",
    "        actual_classes[i] = (int)(actual_classes[i])\n"
   ]
  },
  {
   "cell_type": "code",
   "execution_count": 38,
   "metadata": {},
   "outputs": [],
   "source": [
    "def plot_confusion_matrix(cm, target_names, title='Confusion matrix'):\n",
    "    \n",
    "    fig =  plt.figure(figsize=(8, 6))\n",
    "    plt.imshow(cm, interpolation='nearest', cmap=plt.cm.Blues)\n",
    "    plt.title(title)\n",
    "    plt.colorbar()\n",
    "\n",
    "    if target_names is not None:\n",
    "        tick_marks = np.arange(len(target_names))\n",
    "        plt.xticks(tick_marks, target_names, rotation=45)\n",
    "        plt.yticks(tick_marks, target_names)\n",
    "    \n",
    "    plt.tight_layout()\n",
    "    plt.ylabel('True label')\n",
    "    plt.xlabel('Predicted label')\n",
    "    plt.show()\n",
    "    fig.savefig(\"Confusion.jpg\")"
   ]
  },
  {
   "cell_type": "code",
   "execution_count": 39,
   "metadata": {},
   "outputs": [
    {
     "data": {
      "text/plain": [
       "array([[17,  0,  0,  0,  0,  0,  2,  0,  0,  1],\n",
       "       [ 0, 20,  0,  0,  0,  0,  0,  0,  0,  0],\n",
       "       [ 1,  2, 10,  0,  0,  0,  5,  0,  1,  1],\n",
       "       [ 0,  2,  0, 12,  1,  0,  0,  0,  4,  1],\n",
       "       [ 0,  1,  0,  0,  3,  0, 10,  0,  1,  5],\n",
       "       [ 1,  1,  1,  1,  1,  4,  1,  0,  6,  4],\n",
       "       [ 0,  1,  2,  0,  0,  0, 17,  0,  0,  0],\n",
       "       [ 0,  0,  0,  0,  0,  0,  0,  5,  0, 15],\n",
       "       [ 0,  5,  1,  1,  0,  0,  0,  0, 11,  2],\n",
       "       [ 0,  0,  0,  1,  3,  0,  0,  0,  0, 16]])"
      ]
     },
     "execution_count": 39,
     "metadata": {},
     "output_type": "execute_result"
    }
   ],
   "source": [
    "confusion = np.zeros((10, 10), dtype=int)\n",
    "#predicted_classes = list(predicted_classes)\n",
    "for i in range(len(actual_classes)):\n",
    "    #print(predicted_classes[i])\n",
    "    confusion[actual_classes[i]][predicted_classes[i]]+=1\n",
    "\n",
    "confusion"
   ]
  },
  {
   "cell_type": "code",
   "execution_count": 40,
   "metadata": {},
   "outputs": [
    {
     "data": {
      "image/png": "[encoded data removed]",
      "text/plain": [
       "<Figure size 576x432 with 2 Axes>"
      ]
     },
     "metadata": {
      "needs_background": "light"
     },
     "output_type": "display_data"
    }
   ],
   "source": [
    "#plot the confusion matrix\n",
    "plot_confusion_matrix(cm = confusion, target_names = ['c0', 'c1', 'c2', 'c3', 'c4', 'c5', 'c6', 'c7', 'c8', 'c9'])"
   ]
  }
 ],
 "metadata": {
  "kernelspec": {
   "display_name": "Python 3",
   "language": "python",
   "name": "python3"
  },
  "language_info": {
   "codemirror_mode": {
    "name": "ipython",
    "version": 3
   },
   "file_extension": ".py",
   "mimetype": "text/x-python",
   "name": "python",
   "nbconvert_exporter": "python",
   "pygments_lexer": "ipython3",
   "version": "3.7.5"
  }
 },
 "nbformat": 4,
 "nbformat_minor": 2
}
