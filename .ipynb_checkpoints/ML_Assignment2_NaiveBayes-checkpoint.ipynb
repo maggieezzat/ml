{
 "cells": [
  {
   "cell_type": "markdown",
   "metadata": {},
   "source": [
    "# Assignment 2 ML\n",
    "   ### Maggie Ezzat Gamil Gaid 37-575 T-1\n",
    "   ### Mariz Samir Mounir Awad 37-2632  T-2"
   ]
  },
  {
   "cell_type": "markdown",
   "metadata": {},
   "source": [
    "**Question 2 - Naive Bayes Classifier:**"
   ]
  },
  {
   "cell_type": "code",
   "execution_count": 1,
   "metadata": {
    "scrolled": true
   },
   "outputs": [],
   "source": [
    "import numpy as np\n",
    "import matplotlib.pyplot as plt"
   ]
  },
  {
   "cell_type": "markdown",
   "metadata": {},
   "source": [
    "**Reading the training data:**"
   ]
  },
  {
   "cell_type": "code",
   "execution_count": 2,
   "metadata": {},
   "outputs": [
    {
     "data": {
      "text/plain": [
       "(2400, 784)"
      ]
     },
     "execution_count": 2,
     "metadata": {},
     "output_type": "execute_result"
    }
   ],
   "source": [
    "train_dir = \"./Train/\"\n",
    "\n",
    "#train_data is X\n",
    "train_data = np.zeros(shape=(1,784)).astype(int)\n",
    "\n",
    "for i in range(1,2401):\n",
    "    file_name = train_dir+ str(i)+\".jpg\"\n",
    "    img = plt.imread(file_name)\n",
    "    img = img.flatten()\n",
    "    img = img/255\n",
    "    train_data = np.vstack((train_data, img))\n",
    "    \n",
    "#remove the first zero row in the matrix initizalization        \n",
    "train_data = np.delete(train_data, (0), axis=0) \n",
    "\n",
    "train_data.shape\n"
   ]
  },
  {
   "cell_type": "markdown",
   "metadata": {},
   "source": [
    "**Calculate the mean and variance for each pixel in each class:**"
   ]
  },
  {
   "cell_type": "code",
   "execution_count": 3,
   "metadata": {},
   "outputs": [],
   "source": [
    "mean = np.zeros(shape=(10,784))\n",
    "var = np.zeros(shape=(10,784))\n",
    "\n",
    "for i in range(0,784):\n",
    "    _ithpixel_2400image = train_data[:,i]\n",
    "    x = np.array_split(_ithpixel_2400image, 10)\n",
    "    \n",
    "    for j in range(0,10):\n",
    "        jth_class = np.array(x[j])\n",
    "        \n",
    "        avg_ith_pixel_jth_class = np.mean(jth_class, axis=0)\n",
    "        mean[j][i] = avg_ith_pixel_jth_class\n",
    "        \n",
    "        var_ith_pixel_jth_class = np.var(jth_class, axis=0)\n",
    "        var[j][i] = var_ith_pixel_jth_class\n",
    "\n",
    "p_ck = 240/2400"
   ]
  },
  {
   "cell_type": "markdown",
   "metadata": {},
   "source": [
    "**Reading the test data:**"
   ]
  },
  {
   "cell_type": "code",
   "execution_count": 4,
   "metadata": {},
   "outputs": [
    {
     "data": {
      "text/plain": [
       "(200, 784)"
      ]
     },
     "execution_count": 4,
     "metadata": {},
     "output_type": "execute_result"
    }
   ],
   "source": [
    "test_dir = \"./Test/\"\n",
    "\n",
    "#train_data is X\n",
    "test_data = np.zeros(shape=(1,784)).astype(int)\n",
    "\n",
    "for i in range(1,201):\n",
    "    file_name = test_dir+ str(i)+\".jpg\"\n",
    "    img = plt.imread(file_name)\n",
    "    img = img.flatten()\n",
    "    img = img/255\n",
    "    test_data = np.vstack((test_data, img))\n",
    "    \n",
    "test_data = np.delete(test_data, (0), axis=0) \n",
    "test_data.shape"
   ]
  },
  {
   "cell_type": "markdown",
   "metadata": {},
   "source": [
    "**Gaussian Equation: takes x, mean, variance and outputs a probability**"
   ]
  },
  {
   "cell_type": "code",
   "execution_count": 5,
   "metadata": {},
   "outputs": [],
   "source": [
    "def gaussian(x,mean,var):\n",
    "    if (var < 0.01):\n",
    "        var = 0.01\n",
    "        \n",
    "    return (1/ ((2 * np.pi * var)**0.5) ) * np.exp((-(x-mean)**2)/(2 * var))"
   ]
  },
  {
   "cell_type": "markdown",
   "metadata": {},
   "source": [
    "**Calculating P(x|Ck) as P(x1|ck)xP(x2|ck)x....xP(x784|ck)**"
   ]
  },
  {
   "cell_type": "code",
   "execution_count": 6,
   "metadata": {},
   "outputs": [
    {
     "name": "stderr",
     "output_type": "stream",
     "text": [
      "C:\\Users\\MaggieEzzat\\Anaconda3\\envs\\ml\\lib\\site-packages\\numpy\\core\\fromnumeric.py:90: RuntimeWarning: overflow encountered in reduce\n",
      "  return ufunc.reduce(obj, axis, dtype, out, **passkwargs)\n"
     ]
    },
    {
     "data": {
      "text/plain": [
       "array([0, 0, 0, 0, 0, 0, 0, 0, 0, 0, 0, 0, 0, 8, 0, 0, 0, 0, 6, 0, 1, 1,\n",
       "       1, 1, 1, 1, 1, 1, 1, 1, 1, 1, 1, 1, 1, 1, 1, 1, 1, 1, 2, 8, 2, 2,\n",
       "       2, 2, 2, 2, 5, 2, 2, 2, 9, 6, 2, 2, 2, 2, 2, 2, 8, 8, 3, 3, 3, 3,\n",
       "       3, 3, 3, 3, 3, 3, 3, 3, 3, 3, 3, 3, 3, 5, 4, 9, 4, 4, 6, 4, 6, 4,\n",
       "       4, 4, 4, 4, 9, 9, 6, 4, 4, 8, 4, 9, 8, 5, 8, 5, 5, 8, 5, 5, 5, 9,\n",
       "       4, 5, 5, 4, 5, 5, 5, 5, 5, 5, 8, 6, 6, 6, 6, 6, 6, 6, 6, 6, 6, 6,\n",
       "       6, 6, 6, 6, 6, 6, 6, 6, 7, 7, 7, 7, 7, 7, 7, 7, 7, 9, 7, 9, 4, 9,\n",
       "       4, 9, 9, 7, 7, 4, 8, 8, 8, 8, 8, 8, 8, 8, 8, 8, 8, 8, 8, 0, 8, 8,\n",
       "       9, 8, 8, 8, 9, 9, 9, 0, 7, 9, 3, 8, 9, 9, 9, 9, 9, 9, 9, 4, 4, 4,\n",
       "       9, 9])"
      ]
     },
     "execution_count": 6,
     "metadata": {},
     "output_type": "execute_result"
    }
   ],
   "source": [
    "probs = np.ones(10) *p_ck\n",
    "predicted_classes = np.zeros(200).astype(int)\n",
    "\n",
    "for i in range(0,200):\n",
    "    img = test_data[i]\n",
    "    \n",
    "    for j  in range(0,10):\n",
    "        products = np.ones(shape=(784), dtype=np.float64)\n",
    "        for k in range(0,784):\n",
    "            products[k] = gaussian(img[k], mean[j][k], var[j][k]) \n",
    "\n",
    "        probs[j] = np.prod(products)\n",
    "    \n",
    "    img_class = np.argmax(probs)\n",
    "    predicted_classes[i] = img_class\n",
    "\n",
    "predicted_classes  \n"
   ]
  },
  {
   "cell_type": "markdown",
   "metadata": {},
   "source": [
    "**Getting the actual labels in order to use them in the confusion matrix:**"
   ]
  },
  {
   "cell_type": "code",
   "execution_count": 7,
   "metadata": {},
   "outputs": [],
   "source": [
    "test_dir = \"./Test/\"\n",
    "\n",
    "file_name = test_dir + \"Test Labels.txt\"      \n",
    "with open(file_name, 'r') as f:\n",
    "    actual_classes = f.readlines()\n",
    "    for i in range(0, len(actual_classes)):\n",
    "        actual_classes[i] = (int)(actual_classes[i])\n"
   ]
  },
  {
   "cell_type": "markdown",
   "metadata": {},
   "source": [
    "**Function that plots the confusion Matrix:**"
   ]
  },
  {
   "cell_type": "code",
   "execution_count": 8,
   "metadata": {},
   "outputs": [],
   "source": [
    "def plot_confusion_matrix(cm, target_names, title='Confusion matrix'):\n",
    "    \n",
    "    fig =  plt.figure(figsize=(8, 6))\n",
    "    plt.imshow(cm, interpolation='nearest', cmap=plt.cm.Blues)\n",
    "    plt.title(title)\n",
    "    plt.colorbar()\n",
    "\n",
    "    if target_names is not None:\n",
    "        tick_marks = np.arange(len(target_names))\n",
    "        plt.xticks(tick_marks, target_names, rotation=45)\n",
    "        plt.yticks(tick_marks, target_names)\n",
    "    \n",
    "    plt.tight_layout()\n",
    "    plt.ylabel('True label')\n",
    "    plt.xlabel('Predicted label')\n",
    "    plt.show()\n",
    "    fig.savefig(\"Confusion.jpg\")"
   ]
  },
  {
   "cell_type": "code",
   "execution_count": 9,
   "metadata": {},
   "outputs": [
    {
     "data": {
      "text/plain": [
       "array([[18,  0,  0,  0,  0,  0,  1,  0,  1,  0],\n",
       "       [ 0, 20,  0,  0,  0,  0,  0,  0,  0,  0],\n",
       "       [ 0,  0, 16,  0,  0,  1,  1,  0,  1,  1],\n",
       "       [ 0,  0,  0, 17,  0,  1,  0,  0,  2,  0],\n",
       "       [ 0,  0,  0,  0, 12,  0,  3,  0,  1,  4],\n",
       "       [ 0,  0,  0,  0,  2, 14,  0,  0,  3,  1],\n",
       "       [ 0,  0,  0,  0,  0,  0, 19,  0,  1,  0],\n",
       "       [ 0,  0,  0,  0,  3,  0,  0, 12,  0,  5],\n",
       "       [ 1,  0,  0,  0,  0,  0,  0,  0, 18,  1],\n",
       "       [ 1,  0,  0,  1,  3,  0,  0,  1,  1, 13]])"
      ]
     },
     "execution_count": 9,
     "metadata": {},
     "output_type": "execute_result"
    }
   ],
   "source": [
    "confusion = np.zeros((10, 10), dtype=int)\n",
    "\n",
    "for i in range(len(actual_classes)):\n",
    "    confusion[actual_classes[i]][predicted_classes[i]]+=1\n",
    "\n",
    "confusion\n"
   ]
  },
  {
   "cell_type": "code",
   "execution_count": 10,
   "metadata": {},
   "outputs": [
    {
     "data": {
      "text/plain": [
       "0.795"
      ]
     },
     "execution_count": 10,
     "metadata": {},
     "output_type": "execute_result"
    }
   ],
   "source": [
    "from sklearn.metrics import accuracy_score\n",
    "acc = accuracy_score(actual_classes, predicted_classes)\n",
    "acc"
   ]
  },
  {
   "cell_type": "code",
   "execution_count": 11,
   "metadata": {},
   "outputs": [
    {
     "data": {
      "image/png": "[encoded data removed]",
      "text/plain": [
       "<Figure size 576x432 with 2 Axes>"
      ]
     },
     "metadata": {
      "needs_background": "light"
     },
     "output_type": "display_data"
    }
   ],
   "source": [
    "#plot the confusion matrix\n",
    "plot_confusion_matrix(cm = confusion, target_names = ['c0', 'c1', 'c2', 'c3', 'c4', 'c5', 'c6', 'c7', 'c8', 'c9'])"
   ]
  },
  {
   "cell_type": "code",
   "execution_count": null,
   "metadata": {},
   "outputs": [],
   "source": []
  }
 ],
 "metadata": {
  "kernelspec": {
   "display_name": "Python 3",
   "language": "python",
   "name": "python3"
  },
  "language_info": {
   "codemirror_mode": {
    "name": "ipython",
    "version": 3
   },
   "file_extension": ".py",
   "mimetype": "text/x-python",
   "name": "python",
   "nbconvert_exporter": "python",
   "pygments_lexer": "ipython3",
   "version": "3.7.5"
  }
 },
 "nbformat": 4,
 "nbformat_minor": 2
}
