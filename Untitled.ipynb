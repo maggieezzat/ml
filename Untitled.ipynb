{
 "cells": [
  {
   "cell_type": "markdown",
   "metadata": {},
   "source": [
    "# Assignment 3 ML\n",
    "   ### Maggie Ezzat Gamil Gaid 37-575 T-1\n",
    "   ### Mariz Samir Mounir Awad 37-2632  T-7"
   ]
  },
  {
   "cell_type": "code",
   "execution_count": 1,
   "metadata": {},
   "outputs": [],
   "source": [
    "import numpy as np\n",
    "import matplotlib.pyplot as plt"
   ]
  },
  {
   "cell_type": "markdown",
   "metadata": {},
   "source": [
    "**Reading the data:**"
   ]
  },
  {
   "cell_type": "code",
   "execution_count": null,
   "metadata": {},
   "outputs": [],
   "source": [
    "train_dir = \"./Train/\"\n",
    "\n",
    "#train_data is X\n",
    "train_data = np.zeros(shape=(1,784)).astype(int)\n",
    "\n",
    "for i in range(1,2401):\n",
    "    file_name = train_dir+ str(i)+\".jpg\"\n",
    "    img = plt.imread(file_name)\n",
    "    img = img.flatten()\n",
    "    train_data = np.vstack((train_data, img))\n",
    "    \n",
    "#remove the first zero row in the matrix initizalization        \n",
    "train_data = np.delete(train_data, (0), axis=0) \n",
    "\n",
    "train_data.shape"
   ]
  }
 ],
 "metadata": {
  "kernelspec": {
   "display_name": "Python 3",
   "language": "python",
   "name": "python3"
  },
  "language_info": {
   "codemirror_mode": {
    "name": "ipython",
    "version": 3
   },
   "file_extension": ".py",
   "mimetype": "text/x-python",
   "name": "python",
   "nbconvert_exporter": "python",
   "pygments_lexer": "ipython3",
   "version": "3.7.1"
  }
 },
 "nbformat": 4,
 "nbformat_minor": 2
}
