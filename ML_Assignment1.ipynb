{
 "cells": [
  {
   "cell_type": "markdown",
   "metadata": {},
   "source": [
    "# Assignment 1 ML\n",
    "   ### Maggie Ezzat Gamil Gaid 37-575 T-1\n",
    "   ### Mariz Samir Mounir Awad 37-2632  T-2"
   ]
  },
  {
   "cell_type": "markdown",
   "metadata": {},
   "source": [
    "**Imports Used**"
   ]
  },
  {
   "cell_type": "code",
   "execution_count": 1,
   "metadata": {},
   "outputs": [],
   "source": [
    "import numpy as np\n",
    "import matplotlib.pyplot as plt"
   ]
  },
  {
   "cell_type": "markdown",
   "metadata": {},
   "source": [
    "## Training Phase:"
   ]
  },
  {
   "cell_type": "markdown",
   "metadata": {},
   "source": [
    "**1. Reading Files and flattening the 2D arrays**\n",
    "\n",
    "**2. Storing the training set into 1 data matrix and appending 1 to each image**\n",
    "\n",
    "**3. Calculating A = (X_transpose . X)^-1 . X_transpose**"
   ]
  },
  {
   "cell_type": "code",
   "execution_count": 2,
   "metadata": {},
   "outputs": [
    {
     "name": "stdout",
     "output_type": "stream",
     "text": [
      "(2400, 785)\n",
      "(785, 2400)\n",
      "(785, 785)\n",
      "(785, 2400)\n"
     ]
    }
   ],
   "source": [
    "train_dir = \"./Train/\"\n",
    "\n",
    "#train_data is X\n",
    "train_data = np.zeros(shape=(1,785)).astype(int)\n",
    "\n",
    "for i in range(1,2401):\n",
    "    file_name = train_dir+ str(i)+\".jpg\"\n",
    "    img = plt.imread(file_name)\n",
    "    img = img.flatten()\n",
    "    img = np.append(img, 1)\n",
    "    train_data = np.vstack((train_data, img))\n",
    "\n",
    "\n",
    "#remove the first zero row in the matrix initizalization        \n",
    "train_data = np.delete(train_data, (0), axis=0)   \n",
    "\n",
    "#get X transpose\n",
    "train_data_transpose = train_data.transpose()\n",
    "print(train_data.shape)\n",
    "print(train_data_transpose.shape)\n",
    "\n",
    "#X transpose . X\n",
    "A = np.matmul(train_data_transpose, train_data)\n",
    "print(A.shape)\n",
    "# (X transpose . X)^-1\n",
    "A = np.linalg.pinv(A)\n",
    "# ((X transpose . X)^-1 . X transpose)\n",
    "A = np.matmul(A, train_data_transpose)\n",
    "print(A.shape)\n"
   ]
  },
  {
   "cell_type": "markdown",
   "metadata": {},
   "source": [
    "**4. Preparing the t vector for each classifier:**"
   ]
  },
  {
   "cell_type": "code",
   "execution_count": 3,
   "metadata": {},
   "outputs": [
    {
     "name": "stdout",
     "output_type": "stream",
     "text": [
      "(2400, 1)\n"
     ]
    }
   ],
   "source": [
    "t0 = np.zeros(shape=(2400,1)).astype(int)\n",
    "t1 = np.zeros(shape=(2400,1)).astype(int)\n",
    "t2 = np.zeros(shape=(2400,1)).astype(int)\n",
    "t3 = np.zeros(shape=(2400,1)).astype(int)\n",
    "t4 = np.zeros(shape=(2400,1)).astype(int)\n",
    "t5 = np.zeros(shape=(2400,1)).astype(int)\n",
    "t6 = np.zeros(shape=(2400,1)).astype(int)\n",
    "t7 = np.zeros(shape=(2400,1)).astype(int)\n",
    "t8 = np.zeros(shape=(2400,1)).astype(int)\n",
    "t9 = np.zeros(shape=(2400,1)).astype(int)\n",
    "\n",
    "file_name = train_dir + \"Training Labels.txt\"\n",
    "with open(file_name, 'r') as f:\n",
    "    labels = f.readlines()\n",
    "    for i in range(0, len(labels)):\n",
    "        labels[i] = (int)(labels[i])\n",
    "        t0[i] = (labels[i] == 0)\n",
    "        t1[i] = (labels[i] == 1)\n",
    "        t2[i] = (labels[i] == 2)\n",
    "        t3[i] = (labels[i] == 3)\n",
    "        t4[i] = (labels[i] == 4)\n",
    "        t5[i] = (labels[i] == 5)\n",
    "        t6[i] = (labels[i] == 6)\n",
    "        t7[i] = (labels[i] == 7)\n",
    "        t8[i] = (labels[i] == 8)\n",
    "        t9[i] = (labels[i] == 9)\n",
    "  \n",
    "\n",
    "t0[t0==0] = -1\n",
    "t1[t1==0] = -1\n",
    "t2[t2==0] = -1\n",
    "t3[t3==0] = -1\n",
    "t4[t4==0] = -1\n",
    "t5[t5==0] = -1\n",
    "t6[t6==0] = -1\n",
    "t7[t7==0] = -1\n",
    "t8[t8==0] = -1\n",
    "t9[t9==0] = -1\n",
    "\n",
    "print(t0.shape)"
   ]
  },
  {
   "cell_type": "markdown",
   "metadata": {},
   "source": [
    "**5. Calculate the weights vectors for each classifier, as well as transpose of weights**"
   ]
  },
  {
   "cell_type": "code",
   "execution_count": 4,
   "metadata": {},
   "outputs": [
    {
     "name": "stdout",
     "output_type": "stream",
     "text": [
      "(785, 1)\n",
      "(1, 785)\n"
     ]
    }
   ],
   "source": [
    "w0 = np.matmul(A, t0)\n",
    "w1 = np.matmul(A, t1)\n",
    "w2 = np.matmul(A, t2)\n",
    "w3 = np.matmul(A, t3)\n",
    "w4 = np.matmul(A, t4)\n",
    "w5 = np.matmul(A, t5)\n",
    "w6 = np.matmul(A, t6)\n",
    "w7 = np.matmul(A, t7)\n",
    "w8 = np.matmul(A, t8)\n",
    "w9 = np.matmul(A, t9)\n",
    "print(w9.shape)\n",
    "\n",
    "w0_t = w0.transpose() \n",
    "w1_t = w1.transpose() \n",
    "w2_t = w2.transpose() \n",
    "w3_t = w3.transpose() \n",
    "w4_t = w4.transpose() \n",
    "w5_t = w5.transpose() \n",
    "w6_t = w6.transpose() \n",
    "w7_t = w7.transpose() \n",
    "w8_t = w8.transpose() \n",
    "w9_t = w9.transpose() \n",
    "print(w0_t.shape)\n"
   ]
  },
  {
   "cell_type": "markdown",
   "metadata": {},
   "source": [
    "## Test Phase:"
   ]
  },
  {
   "cell_type": "markdown",
   "metadata": {},
   "source": [
    "**1. Get the true labels**\n",
    "\n",
    "\n",
    "**2. Get the predicted labels**"
   ]
  },
  {
   "cell_type": "code",
   "execution_count": 5,
   "metadata": {},
   "outputs": [
    {
     "name": "stdout",
     "output_type": "stream",
     "text": [
      "200\n",
      "[0, 0, 0, 0, 0, 0, 0, 0, 0, 0, 0, 0, 0, 0, 0, 0, 0, 0, 6, 0, 1, 1, 1, 1, 1, 1, 1, 1, 1, 1, 1, 1, 1, 1, 1, 1, 1, 1, 1, 1, 2, 1, 2, 1, 2, 2, 0, 4, 3, 2, 3, 2, 1, 5, 2, 2, 4, 2, 2, 2, 3, 3, 3, 3, 5, 3, 3, 3, 3, 3, 3, 3, 3, 3, 3, 3, 3, 3, 8, 8, 4, 4, 4, 4, 4, 4, 4, 4, 4, 5, 4, 4, 7, 4, 4, 4, 4, 4, 4, 9, 8, 5, 5, 3, 5, 5, 5, 5, 5, 5, 9, 8, 6, 5, 5, 5, 9, 5, 5, 5, 6, 6, 6, 6, 6, 6, 6, 6, 6, 6, 6, 6, 6, 6, 6, 6, 6, 6, 6, 6, 7, 7, 7, 7, 7, 7, 7, 7, 7, 9, 7, 9, 2, 7, 9, 7, 7, 7, 7, 3, 8, 5, 8, 9, 5, 8, 8, 8, 8, 8, 8, 8, 8, 2, 8, 8, 8, 8, 8, 5, 9, 7, 9, 7, 7, 9, 3, 5, 9, 9, 4, 9, 9, 9, 7, 9, 9, 0, 9, 9]\n",
      "[0, 0, 0, 0, 0, 0, 0, 0, 0, 0, 0, 0, 0, 0, 0, 0, 0, 0, 0, 0, 1, 1, 1, 1, 1, 1, 1, 1, 1, 1, 1, 1, 1, 1, 1, 1, 1, 1, 1, 1, 2, 2, 2, 2, 2, 2, 2, 2, 2, 2, 2, 2, 2, 2, 2, 2, 2, 2, 2, 2, 3, 3, 3, 3, 3, 3, 3, 3, 3, 3, 3, 3, 3, 3, 3, 3, 3, 3, 3, 3, 4, 4, 4, 4, 4, 4, 4, 4, 4, 4, 4, 4, 4, 4, 4, 4, 4, 4, 4, 4, 5, 5, 5, 5, 5, 5, 5, 5, 5, 5, 5, 5, 5, 5, 5, 5, 5, 5, 5, 5, 6, 6, 6, 6, 6, 6, 6, 6, 6, 6, 6, 6, 6, 6, 6, 6, 6, 6, 6, 6, 7, 7, 7, 7, 7, 7, 7, 7, 7, 7, 7, 7, 7, 7, 7, 7, 7, 7, 7, 7, 8, 8, 8, 8, 8, 8, 8, 8, 8, 8, 8, 8, 8, 8, 8, 8, 8, 8, 8, 8, 9, 9, 9, 9, 9, 9, 9, 9, 9, 9, 9, 9, 9, 9, 9, 9, 9, 9, 9, 9]\n"
     ]
    }
   ],
   "source": [
    "test_dir = \"./Test/\"\n",
    "\n",
    "file_name = test_dir + \"Test Labels.txt\"      \n",
    "with open(file_name, 'r') as f:\n",
    "    test_labels = f.readlines()\n",
    "    print(len(test_labels))\n",
    "    for i in range(0, len(test_labels)):\n",
    "        test_labels[i] = (int)(test_labels[i])\n",
    "                \n",
    "predicted_labels = [0]*200\n",
    "\n",
    "for i in range(1, 201):\n",
    "    file_name = test_dir+ str(i)+\".jpg\"\n",
    "    img = plt.imread(file_name)\n",
    "    img = img.flatten()\n",
    "    img = np.append(img, 1)\n",
    "    c0 = np.dot(w0_t, img)\n",
    "    c1 = np.dot(w1_t, img)\n",
    "    c2 = np.dot(w2_t, img)\n",
    "    c3 = np.dot(w3_t, img)\n",
    "    c4 = np.dot(w4_t, img)\n",
    "    c5 = np.dot(w5_t, img)\n",
    "    c6 = np.dot(w6_t, img)\n",
    "    c7 = np.dot(w7_t, img)\n",
    "    c8 = np.dot(w8_t, img)\n",
    "    c9 = np.dot(w9_t, img)\n",
    "    arr = [c0, c1, c2, c3, c4, c5, c6, c7, c8, c9 ]\n",
    "    predicted_labels[i-1] = arr.index(max(arr))\n",
    "\n",
    "print(predicted_labels)\n",
    "print(test_labels)\n",
    " "
   ]
  },
  {
   "cell_type": "markdown",
   "metadata": {},
   "source": [
    "**3. Construct a confusion matrix using the true labels and the predicted labels**"
   ]
  },
  {
   "cell_type": "code",
   "execution_count": 6,
   "metadata": {},
   "outputs": [
    {
     "data": {
      "text/plain": [
       "array([[19,  0,  0,  0,  0,  0,  1,  0,  0,  0],\n",
       "       [ 0, 20,  0,  0,  0,  0,  0,  0,  0,  0],\n",
       "       [ 1,  3, 11,  2,  2,  1,  0,  0,  0,  0],\n",
       "       [ 0,  0,  0, 17,  0,  1,  0,  0,  2,  0],\n",
       "       [ 0,  0,  0,  0, 17,  1,  0,  1,  0,  1],\n",
       "       [ 0,  0,  0,  1,  0, 14,  1,  0,  2,  2],\n",
       "       [ 0,  0,  0,  0,  0,  0, 20,  0,  0,  0],\n",
       "       [ 0,  0,  1,  1,  0,  0,  0, 15,  0,  3],\n",
       "       [ 0,  0,  1,  0,  0,  3,  0,  0, 15,  1],\n",
       "       [ 1,  0,  0,  1,  1,  1,  0,  4,  0, 12]])"
      ]
     },
     "execution_count": 6,
     "metadata": {},
     "output_type": "execute_result"
    }
   ],
   "source": [
    "confusion = np.zeros((10, 10), dtype=int)\n",
    "\n",
    "for i in range(len(test_labels)):\n",
    "    confusion[test_labels[i]][predicted_labels[i]]+=1\n",
    "\n",
    "confusion"
   ]
  },
  {
   "cell_type": "code",
   "execution_count": 7,
   "metadata": {},
   "outputs": [],
   "source": [
    "def plot_confusion_matrix(cm, target_names, title='Confusion matrix'):\n",
    "    \n",
    "    fig =  plt.figure(figsize=(8, 6))\n",
    "    plt.imshow(cm, interpolation='nearest', cmap=plt.cm.Blues)\n",
    "    plt.title(title)\n",
    "    plt.colorbar()\n",
    "\n",
    "    if target_names is not None:\n",
    "        tick_marks = np.arange(len(target_names))\n",
    "        plt.xticks(tick_marks, target_names, rotation=45)\n",
    "        plt.yticks(tick_marks, target_names)\n",
    "    \n",
    "    plt.tight_layout()\n",
    "    plt.ylabel('True label')\n",
    "    plt.xlabel('Predicted label')\n",
    "    plt.show()\n",
    "    fig.savefig(\"Confusion.jpg\")"
   ]
  },
  {
   "cell_type": "code",
   "execution_count": 8,
   "metadata": {},
   "outputs": [
    {
     "data": {
      "image/png": "[encoded data removed]",
      "text/plain": [
       "<Figure size 576x432 with 2 Axes>"
      ]
     },
     "metadata": {
      "needs_background": "light"
     },
     "output_type": "display_data"
    }
   ],
   "source": [
    "#plot the confusion matrix\n",
    "plot_confusion_matrix(cm = confusion, target_names = ['c0', 'c1', 'c2', 'c3', 'c4', 'c5', 'c6', 'c7', 'c8', 'c9'])"
   ]
  },
  {
   "cell_type": "code",
   "execution_count": null,
   "metadata": {},
   "outputs": [],
   "source": []
  }
 ],
 "metadata": {
  "kernelspec": {
   "display_name": "Python 3",
   "language": "python",
   "name": "python3"
  },
  "language_info": {
   "codemirror_mode": {
    "name": "ipython",
    "version": 3
   },
   "file_extension": ".py",
   "mimetype": "text/x-python",
   "name": "python",
   "nbconvert_exporter": "python",
   "pygments_lexer": "ipython3",
   "version": "3.7.1"
  }
 },
 "nbformat": 4,
 "nbformat_minor": 2
}
